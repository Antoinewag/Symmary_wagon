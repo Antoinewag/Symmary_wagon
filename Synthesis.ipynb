{
 "cells": [
  {
   "cell_type": "markdown",
   "metadata": {},
   "source": [
    "# Terminal Command"
   ]
  },
  {
   "cell_type": "markdown",
   "metadata": {},
   "source": [
    "**cd** ..                 \tPermet de remonter dans le répertoire de l'ordinateur  \n",
    "**ls**                    \tPermet d'afficher les fichiers et sous-fichiers  \n",
    "**ls -l**                 \tMême fonction que ls mais en version longue  \n",
    "**ls-A**                  \tPermet d'afficher les fichiers et sous-fichiers cachés  \n",
    "**ls -al**    *            \tPermet d'afficher tous les fichiers (normaux et cachés)  \n",
    "**mkdir <nom_repertory> \tPermet de créer un nouveaux répertoire  \n",
    "mv <nom> <nouveau_nom>** \tPermet de renommer un fichier\n",
    "mv <nom> <emplacement>\tPermet de déplacer un fichier dans un nouvel emplacement\n",
    "cp <nom> <nouveau_nom>\tPermet de faire une copie du fichier en nommant la copie avec un nouveau nom\n",
    "rm <nom_fichier>      \tPermet de supprimer un fichier\n",
    "pwd                   \tPermet de printer le path du fichier "
   ]
  },
  {
   "cell_type": "markdown",
   "metadata": {},
   "source": [
    "# GitHub & Git"
   ]
  },
  {
   "cell_type": "raw",
   "metadata": {},
   "source": [
    "Code utile dans github\n",
    "Git status              \tPermet d’analyser les éventuelles modifications du code après la dernière sauvegarde.\n",
    "Git add <nom_fichier>   \tPermet d’ajouter les modifications du codes au code de base présent dans github.\n",
    "Git commit -m ‘’ … ‘’   \tPermet de commenter la dernière sauvegarde afin d’expliquer les modifications.\n",
    "Git push origin master  \tPermet de confirmer la modification du code. C'est la dernière vérification.\n"
   ]
  },
  {
   "cell_type": "code",
   "execution_count": null,
   "metadata": {},
   "outputs": [],
   "source": []
  },
  {
   "cell_type": "code",
   "execution_count": null,
   "metadata": {},
   "outputs": [],
   "source": []
  },
  {
   "cell_type": "code",
   "execution_count": null,
   "metadata": {},
   "outputs": [],
   "source": []
  }
 ],
 "metadata": {
  "kernelspec": {
   "display_name": "Python 3",
   "language": "python",
   "name": "python3"
  },
  "language_info": {
   "codemirror_mode": {
    "name": "ipython",
    "version": 3
   },
   "file_extension": ".py",
   "mimetype": "text/x-python",
   "name": "python",
   "nbconvert_exporter": "python",
   "pygments_lexer": "ipython3",
   "version": "3.7.7"
  }
 },
 "nbformat": 4,
 "nbformat_minor": 4
}
